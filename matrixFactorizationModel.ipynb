{
 "cells": [
  {
   "cell_type": "markdown",
   "metadata": {},
   "source": [
    "## Matrix Factorization\n",
    "- importing libraries and data\n",
    "- statistical and descision based accuracy measurment\n",
    "    - k-fold cross validation\n",
    "    - hold-out validation"
   ]
  },
  {
   "cell_type": "markdown",
   "metadata": {},
   "source": [
    "### Importing libraries"
   ]
  },
  {
   "cell_type": "code",
   "execution_count": 1,
   "metadata": {},
   "outputs": [],
   "source": [
    "from scipy.stats import norm\n",
    "import numpy as np \n",
    "import matplotlib.pyplot as plt\n",
    "import requests\n",
    "from io import StringIO\n",
    "import seaborn as sns\n",
    "import pandas as pd\n",
    "from sklearn.model_selection import KFold\n",
    "from collections import defaultdict\n",
    "from datetime import datetime\n",
    "import math\n",
    "import random\n",
    "import sys\n",
    "from sklearn.model_selection import train_test_split\n",
    "from sklearn.metrics import accuracy_score,precision_recall_fscore_support\n",
    "import collections\n",
    "from sklearn.metrics import mean_squared_error, mean_absolute_error\n",
    "from sklearn.metrics import confusion_matrix\n",
    "import logging\n",
    "import json\n",
    "import pickle\n",
    "import os.path"
   ]
  },
  {
   "cell_type": "markdown",
   "metadata": {},
   "source": [
    "#### importing data"
   ]
  },
  {
   "cell_type": "code",
   "execution_count": 2,
   "metadata": {},
   "outputs": [
    {
     "data": {
      "text/html": [
       "<div>\n",
       "<style scoped>\n",
       "    .dataframe tbody tr th:only-of-type {\n",
       "        vertical-align: middle;\n",
       "    }\n",
       "\n",
       "    .dataframe tbody tr th {\n",
       "        vertical-align: top;\n",
       "    }\n",
       "\n",
       "    .dataframe thead th {\n",
       "        text-align: right;\n",
       "    }\n",
       "</style>\n",
       "<table border=\"1\" class=\"dataframe\">\n",
       "  <thead>\n",
       "    <tr style=\"text-align: right;\">\n",
       "      <th></th>\n",
       "      <th>user_id</th>\n",
       "      <th>layout_id</th>\n",
       "      <th>ratings</th>\n",
       "    </tr>\n",
       "  </thead>\n",
       "  <tbody>\n",
       "    <tr>\n",
       "      <th>0</th>\n",
       "      <td>u 2</td>\n",
       "      <td>L1</td>\n",
       "      <td>1.0</td>\n",
       "    </tr>\n",
       "    <tr>\n",
       "      <th>1</th>\n",
       "      <td>u 3</td>\n",
       "      <td>L1</td>\n",
       "      <td>1.0</td>\n",
       "    </tr>\n",
       "    <tr>\n",
       "      <th>2</th>\n",
       "      <td>u 3</td>\n",
       "      <td>L5</td>\n",
       "      <td>1.0</td>\n",
       "    </tr>\n",
       "    <tr>\n",
       "      <th>3</th>\n",
       "      <td>u 4</td>\n",
       "      <td>L1</td>\n",
       "      <td>1.0</td>\n",
       "    </tr>\n",
       "    <tr>\n",
       "      <th>4</th>\n",
       "      <td>u 4</td>\n",
       "      <td>GLHS2</td>\n",
       "      <td>1.0</td>\n",
       "    </tr>\n",
       "  </tbody>\n",
       "</table>\n",
       "</div>"
      ],
      "text/plain": [
       "  user_id layout_id  ratings\n",
       "0     u 2        L1      1.0\n",
       "1     u 3        L1      1.0\n",
       "2     u 3        L5      1.0\n",
       "3     u 4        L1      1.0\n",
       "4     u 4     GLHS2      1.0"
      ]
     },
     "execution_count": 2,
     "metadata": {},
     "output_type": "execute_result"
    }
   ],
   "source": [
    "url = 'https://drive.google.com/file/d/1KbNla9qUZEvscEFbRe767Lq0N-xB2Uoo/view?usp=sharing'\n",
    "path = 'https://drive.google.com/uc?export=download&id='+url.split('/')[-2]\n",
    "result = pd.read_csv(path)\n",
    "result.head()"
   ]
  },
  {
   "cell_type": "markdown",
   "metadata": {},
   "source": [
    "#### k-fold cross validation"
   ]
  },
  {
   "cell_type": "code",
   "execution_count": 3,
   "metadata": {
    "execution": {
     "iopub.execute_input": "2021-10-08T22:08:53.729250Z",
     "iopub.status.busy": "2021-10-08T22:08:53.728940Z",
     "iopub.status.idle": "2021-10-08T22:08:53.745212Z",
     "shell.execute_reply": "2021-10-08T22:08:53.744453Z",
     "shell.execute_reply.started": "2021-10-08T22:08:53.729207Z"
    },
    "trusted": true
   },
   "outputs": [
    {
     "name": "stdout",
     "output_type": "stream",
     "text": [
      "KFold(n_splits=5, random_state=None, shuffle=False)\n"
     ]
    },
    {
     "data": {
      "text/plain": [
       "KFold(n_splits=4, random_state=None, shuffle=False)"
      ]
     },
     "execution_count": 3,
     "metadata": {},
     "output_type": "execute_result"
    }
   ],
   "source": [
    "from sklearn.model_selection import KFold\n",
    "kf = KFold(n_splits=5) # Define the split - into 2 folds \n",
    "kf.get_n_splits(result) # returns the number of splitting iterations in the cross-validator\n",
    "print(kf) \n",
    "KFold(n_splits=4, random_state=None, shuffle=False)"
   ]
  },
  {
   "cell_type": "code",
   "execution_count": 4,
   "metadata": {
    "_cell_guid": "44dab8a2-70a2-4ddb-8b04-a5eda1354b44",
    "_uuid": "3812f622-6e04-46fc-9e5b-44476f82b643",
    "collapsed": false,
    "execution": {
     "iopub.execute_input": "2021-10-08T22:08:53.799452Z",
     "iopub.status.busy": "2021-10-08T22:08:53.799175Z",
     "iopub.status.idle": "2021-10-08T22:08:55.050646Z",
     "shell.execute_reply": "2021-10-08T22:08:55.049711Z",
     "shell.execute_reply.started": "2021-10-08T22:08:53.799420Z"
    },
    "jupyter": {
     "outputs_hidden": false
    },
    "trusted": true
   },
   "outputs": [],
   "source": [
    "# Matrix Factorization (MF) training\n",
    "result_rmse_factor ={}\n",
    "class MF:\n",
    "    \n",
    "    Regularization = 0.002\n",
    "    BiasLearnRate = 0.0002\n",
    "    BiasReg = 0.001\n",
    "    LearnRate = 0\n",
    "    all_layouts_mean = 0\n",
    "    number_of_ratings = 0\n",
    "    save_path = 'Models/matrixfactorization'\n",
    "    item_bias = None\n",
    "    user_bias = None\n",
    "    beta = 0.02\n",
    "    L_factor = []\n",
    "    L_error = []\n",
    "    L_iterations = []\n",
    "    L_iterations_error = []\n",
    "    iterations = 0\n",
    "    fold = 0\n",
    "\n",
    "    def __init__(self, max_iterations, learningRate):\n",
    "        self.user_factors = None\n",
    "        self.item_factors = None\n",
    "        self.item_counts = None\n",
    "        self.item_sum = None\n",
    "        self.u_inx = None\n",
    "        self.i_inx = None\n",
    "        self.user_ids = None\n",
    "        self.layouts_ids = None\n",
    "        self.LearnRate = learningRate\n",
    "        self.all_layouts_mean = 0.0\n",
    "        self.number_of_ratings = 0\n",
    "        self.MAX_ITERATIONS = max_iterations\n",
    "        self.L_factor = []\n",
    "        self.L_error = []\n",
    "        self.L_iterations = []\n",
    "        self.L_iterations_error = []\n",
    "        random.seed(42)    \n",
    "   \n",
    "    def initialize_factors(self, ratings, k):\n",
    "\n",
    "        self.user_ids = set(ratings['user_id'].values) # get all the user ids from the datafram\n",
    "        self.layout_ids = set(ratings['layout_id'].values) # get all the layout ids from the datafram\n",
    "\n",
    "        self.u_inx = {r: i for i, r in enumerate(self.user_ids)} # creating dictionaries of the user and items and generating the numeric values against to make it simple for numpay\n",
    "        self.i_inx = {r: i for i, r in enumerate(self.layout_ids)}\n",
    "        self.item_factors = np.full((len(self.i_inx), k), (0.01))\n",
    "        self.user_factors = np.full((len(self.u_inx), k), 0.01)\n",
    "        \n",
    "        self.all_layouts_mean = self.find_mean_ratings(ratings) # also called global bias\n",
    "        self.user_bias = defaultdict(lambda: 0) # initialization of user and item biases\n",
    "        self.item_bias = defaultdict(lambda: 0)\n",
    "        \n",
    "    def find_mean_ratings(self, results):\n",
    "\n",
    "        avg = results['ratings'].sum() / results.shape[0]\n",
    "        return avg   \n",
    "    \n",
    "    def train(self, ratings_df, k, fold):\n",
    "        self.fold = fold\n",
    "        self.initialize_factors(ratings_df, k)\n",
    "        \n",
    "        #print(\"user_id: {}, layout_id: {}\".format(self.user_ids,self.layout_ids))\n",
    "        columns = ['user_id', 'layout_id', 'ratings']\n",
    "        ratings = ratings_df[columns].values\n",
    "        \n",
    "        \n",
    "        index_randomized = random.sample(range(0, len(ratings)), (len(ratings) - 1))# creating list equal to the length of ratings dataframe numpy array \n",
    "        count = 0\n",
    "        for factor in range(k):\n",
    "            factor_time = datetime.now()\n",
    "            # first time intializing with maximum latest/last and iteration errors\n",
    "            iterations = 0\n",
    "            last_err = sys.maxsize\n",
    "            iteration_err = sys.maxsize\n",
    "            \n",
    "            finished = False\n",
    "\n",
    "            while not finished:\n",
    "                start_time = datetime.now()\n",
    "                iteration_err = self.stocastic_gradient_descent(factor, index_randomized, ratings) # SGD optimizer \n",
    "                iterations += 1\n",
    "                #print(\"epoch in {}, factor={}, iterations={} iteration_err={} \".format(datetime.now() - start_time, factor, iterations, iteration_err))\n",
    "                finished = self.finished(iterations, last_err, iteration_err)\n",
    "                last_err = iteration_err\n",
    "                self.L_iterations_error.append(iteration_err)\n",
    "                self.L_iterations.append(iterations)\n",
    "                self.L_error.append(last_err)\n",
    "                self.L_factor.append(factor)\n",
    "            \n",
    "            self.save(factor, finished)\n",
    "            #print(\"finished factor {} on time={} iterations={} iteration_err={} accuracy{}\".format(factor, datetime.now() - factor_time, iterations, iteration_err,(100-iteration_err)))\n",
    "\n",
    "        self.plot(self.L_iterations,self.L_iterations_error,self.L_factor,self.L_error, self.fold)\n",
    "\n",
    "    \n",
    "    # to terminate training session\n",
    "    def finished(self, iterations, last_err, current_err):\n",
    "        if iterations >= self.MAX_ITERATIONS :\n",
    "            return True\n",
    "        else:\n",
    "            self.iterations +=1\n",
    "            return False\n",
    "\n",
    "    def stocastic_gradient_descent(self, factor, index_randomized, ratings):\n",
    "        \n",
    "        lr = self.LearnRate\n",
    "        b_lr = self.BiasLearnRate\n",
    "        r = self.Regularization\n",
    "        bias_r = self.BiasReg\n",
    "        for inx in index_randomized:\n",
    "            rating_row = ratings[inx]\n",
    "\n",
    "            u = self.u_inx[rating_row[0]] # user's index in dictionary\n",
    "            i = self.i_inx[rating_row[1]] # item's index in dictionary\n",
    "            rating = rating_row[2]\n",
    "\n",
    "            prediction = self.predict(u, i)\n",
    "            \n",
    "            err = rating - prediction\n",
    "            #print(\"rating{} prediction{} error{}\".formate(rating,prediction,error))         \n",
    "            self.user_bias[u] += b_lr * (err - bias_r * self.user_bias[u])\n",
    "            self.item_bias[i] += b_lr * (err - bias_r * self.item_bias[i])\n",
    "\n",
    "            user_fac = self.user_factors[u][factor]\n",
    "            item_fac = self.item_factors[i][factor]           \n",
    "            \n",
    "            self.user_factors[u][factor] += lr * (err * item_fac - r * user_fac)\n",
    "            self.item_factors[i][factor] += lr * (err * user_fac - r * item_fac)\n",
    "            \n",
    "        rmse = self.calculate_rmse(ratings, factor)\n",
    "        return rmse\n",
    "    \n",
    "    # predict ratings\n",
    "    def predict(self, user, item):\n",
    "        \n",
    "        avg = self.all_layouts_mean\n",
    "    \n",
    "        item_test = self.item_factors[item]\n",
    "        user_test = self.user_factors[user]\n",
    "        \n",
    "    \n",
    "        pq = np.dot(item_test,user_test)\n",
    "        b_ui = avg + self.user_bias[user] + self.item_bias[item]\n",
    "        \n",
    "        prediction = b_ui + pq\n",
    "        \n",
    "        if prediction > 5:\n",
    "            prediction = 5\n",
    "        elif prediction < 1:\n",
    "            prediction = 1\n",
    "        #print('item {} User {} Prediction {}'.format(item, user, prediction))\n",
    "        return prediction\n",
    "    \n",
    "    def calculate_rmse(self, ratings, factor):\n",
    "        self.prediction = None\n",
    "        def difference(row):\n",
    "            user = self.u_inx[row[0]]\n",
    "            item = self.i_inx[row[1]]\n",
    "            \n",
    "            pq = np.dot(self.item_factors[item][:factor + 1], self.user_factors[user][:factor + 1].T)\n",
    "            b_ui = self.all_layouts_mean+ self.user_bias[user] + self.item_bias[item]\n",
    "            self.prediction = b_ui + pq\n",
    "            \n",
    "            MSE = (self.prediction - row[2]) ** 2\n",
    "            return MSE\n",
    "\n",
    "        squared = np.apply_along_axis(difference, 1, ratings).sum()\n",
    "        \n",
    "        rmse = math.sqrt(squared / ratings.shape[0])\n",
    "        return rmse\n",
    "    \n",
    "    # plot training results\n",
    "    def plot(self, L_iterations,L_iterations_error,L_factor,L_error, fold):\n",
    "       \n",
    "        #ploting iteration error with factors\n",
    "        fig = plt.figure(figsize = (5,4))\n",
    "        ax = fig.add_axes([0,0,1,1])\n",
    "        ax.set_title('Error in Iterations '+str(fold),fontsize=12)\n",
    "        ax.set_xlabel('Iterations',fontsize=12)\n",
    "        ax.set_ylabel('Iterations Error',fontsize=12)\n",
    "        ax.scatter(L_iterations, L_iterations_error, color='g')\n",
    "        ax.legend()\n",
    "        \n",
    "        # uncomment below for latent factor error\n",
    "        # fig = plt.figure(figsize = (5,4))\n",
    "        # ax = fig.add_axes([0,0,1,1])\n",
    "        # ax.set_title('Error in Factors '+str(fold),fontsize=12)\n",
    "        # ax.set_xlabel('Factor',fontsize=12)\n",
    "        # ax.set_ylabel('Factor Error',fontsize=12)\n",
    "        # ax.plot(L_factor, L_iterations_error, color = 'RED')\n",
    "        # ax.legend()\n",
    "        # plt.show()\n",
    "    \n",
    "    # saving model\n",
    "    def save(self, factor, finished):\n",
    "\n",
    "        save_path = self.save_path + '\\\\'\n",
    "        if not finished:\n",
    "            save_path += str(factor) + '\\\\'\n",
    "\n",
    "        user_bias = {uid: self.user_bias[self.u_inx[uid]] for uid in self.u_inx.keys()}\n",
    "        item_bias = {iid: self.item_bias[self.i_inx[iid]] for iid in self.i_inx.keys()}\n",
    "\n",
    "        userFactor = pd.DataFrame(self.user_factors, index=self.user_ids)\n",
    "        itemFactor = pd.DataFrame(self.item_factors, index=self.layout_ids)\n",
    "        \n",
    "        with open(save_path+'user_factors.json', 'w') as outfile:\n",
    "            outfile.write(userFactor.to_json())\n",
    "        with open(save_path+'item_factors.json', 'w') as outfile:\n",
    "            outfile.write(itemFactor.to_json())\n",
    "        with open(save_path+'user_bias.data', 'wb') as ub_file:\n",
    "            pickle.dump(user_bias, ub_file)\n",
    "        with open(save_path+'item_bias.data', 'wb') as ub_file:\n",
    "            pickle.dump(item_bias, ub_file)\n",
    "        with open(save_path+'avg.npy', 'wb') as f:\n",
    "            np.save(f, self.all_layouts_mean)\n"
   ]
  },
  {
   "cell_type": "markdown",
   "metadata": {
    "execution": {
     "iopub.execute_input": "2021-08-21T15:46:23.331704Z",
     "iopub.status.busy": "2021-08-21T15:46:23.331095Z",
     "iopub.status.idle": "2021-08-21T15:46:23.334907Z",
     "shell.execute_reply": "2021-08-21T15:46:23.334142Z",
     "shell.execute_reply.started": "2021-08-21T15:46:23.331656Z"
    }
   },
   "source": [
    "### Validating Model and Making recommendations for test users"
   ]
  },
  {
   "cell_type": "code",
   "execution_count": 5,
   "metadata": {
    "execution": {
     "iopub.execute_input": "2021-10-08T22:08:55.059136Z",
     "iopub.status.busy": "2021-10-08T22:08:55.058758Z",
     "iopub.status.idle": "2021-10-08T22:08:55.074685Z",
     "shell.execute_reply": "2021-10-08T22:08:55.073985Z",
     "shell.execute_reply.started": "2021-10-08T22:08:55.059092Z"
    },
    "trusted": true
   },
   "outputs": [],
   "source": [
    "def average_precision_k(recs, actual):\n",
    "        score = 0\n",
    "        num_hits = 0\n",
    "\n",
    "        for i, p in enumerate(recs):\n",
    "            TP = p[0] in actual\n",
    "            if TP:\n",
    "                num_hits += 1.0\n",
    "            score += (num_hits / (i + 1.0))\n",
    "        if score > 0:\n",
    "            score /= min(len(recs), len(actual))\n",
    "        return score\n",
    "    \n",
    "def recall_at_k(recs, actual):\n",
    "\n",
    "        if len(actual) == 0:\n",
    "            return 0.0\n",
    "\n",
    "        TP = set([r[0] for r in recs if r[0] in actual])\n",
    "        score = (len(TP) / len(actual))\n",
    "        return score\n",
    "    \n",
    "def confusion_matrix_func(recs, actual):\n",
    "    \n",
    "    TP = 0\n",
    "    FP = 0\n",
    "    TN = 0\n",
    "    FN = 0\n",
    "    if len(actual) == 0:\n",
    "            return 0.0\n",
    "        \n",
    "    temp_recs_list=[]\n",
    "    for r in recs:\n",
    "        temp_recs_list.append(r[0])\n",
    "        \n",
    "    for i in range(len(temp_recs_list)):\n",
    "        if temp_recs_list[i] in actual: # if layout is recommended and user has interacted with it (TP)\n",
    "            TP+=1\n",
    "        if temp_recs_list[i] not in actual: # if layout is recommended but user didn't interact with it (FP)\n",
    "            FP+=1\n",
    "    for j in range(len(actual)):\n",
    "    \n",
    "        if actual[j] not in temp_recs_list: # if layout was not recommended but user interacted with it (FN)\n",
    "            FN+=1\n",
    "            \n",
    "    # if layout was not recommended and user didn't interact with it too(TN)\n",
    "    TN = result.layout_id.nunique() - (TP+FP+FN)\n",
    "    return TP,FP,FN,TN"
   ]
  },
  {
   "cell_type": "code",
   "execution_count": 6,
   "metadata": {
    "_cell_guid": "2fff83f3-cc38-4421-9f6a-c16c2637161c",
    "_uuid": "d81170d8-42d6-4b0c-8b51-20ede41cecb6",
    "collapsed": false,
    "execution": {
     "iopub.execute_input": "2021-10-08T22:08:55.076601Z",
     "iopub.status.busy": "2021-10-08T22:08:55.076214Z",
     "iopub.status.idle": "2021-10-08T22:08:55.095930Z",
     "shell.execute_reply": "2021-10-08T22:08:55.095015Z",
     "shell.execute_reply.started": "2021-10-08T22:08:55.076571Z"
    },
    "jupyter": {
     "outputs_hidden": false
    },
    "trusted": true
   },
   "outputs": [],
   "source": [
    "# Layouts recommender\n",
    "class FunkSVDRecommender:\n",
    "    \n",
    "    def __init__(self):\n",
    "        self.user_bias = None\n",
    "        self.item_bias = None\n",
    "        self.avg = None\n",
    "        self.modelpath = 'Models/matrixfactorization'\n",
    "        self.user_factors = None\n",
    "        self.item_factors = None\n",
    "        self.ordered_item_bias = None\n",
    "        self.model_loaded = None\n",
    "        self.model_loaded = False\n",
    "        self.load_model()\n",
    "\n",
    "    def load_model(self):\n",
    "        get_path = self.modelpath + '\\\\'\n",
    "        with open(get_path+'user_bias.data', 'rb') as ub_file:\n",
    "            self.user_bias = pickle.load(ub_file)\n",
    "        with open(get_path+'item_bias.data', 'rb') as ub_file:\n",
    "            self.item_bias = pickle.load(ub_file)\n",
    "        with open(get_path+'avg.npy', 'rb') as f:\n",
    "            self.avg = np.load(f)\n",
    "       \n",
    "        with open(get_path+'user_factors.json', 'r') as infile:\n",
    "            self.user_factors = pd.DataFrame(json.load(infile)).T\n",
    "        with open(get_path+'item_factors.json', 'r') as infile:\n",
    "            self.item_factors = pd.DataFrame(json.load(infile)).T\n",
    "        self.ordered_item_bias = list(collections.OrderedDict(sorted(self.item_bias.items())).values())\n",
    "        self.model_loaded = True\n",
    "\n",
    "    # recommending layouts to the given user\n",
    "    def recommend_items_by_ratings(self, user_id, active_user_items, num):\n",
    "        rated_layouts = active_user_items\n",
    "        recs = {}\n",
    "        if str(user_id) in self.user_factors.columns:\n",
    "            user = self.user_factors[str(user_id)]\n",
    "            items = self.item_factors\n",
    "            scores = items.T.dot(user)\n",
    "            sorted_scores = scores.sort_values(ascending=False)\n",
    "            result = sorted_scores[:num + len(rated_layouts)]\n",
    "            user_bias = 0\n",
    "\n",
    "            if user_id in self.user_bias.keys():\n",
    "                user_bias = self.user_bias[user_id]\n",
    "            elif int(user_id) in self.user_bias.keys():\n",
    "                user_bias = self.user_bias[int(user_id)]\n",
    "                print(f'it was an int {user_bias}')\n",
    "\n",
    "            rating = float(user_bias + self.avg)\n",
    "            result += rating\n",
    "\n",
    "            recs = {r[0]: {'prediction': r[1] + float(self.item_bias[r[0]])}\n",
    "                    for r in zip(result.index, result) if r[0] not in rated_layouts}\n",
    "        sorted_items = sorted(recs.items(), key=lambda item: -float(item[1]['prediction']))[:num]\n",
    "        return sorted_items"
   ]
  },
  {
   "cell_type": "code",
   "execution_count": 7,
   "metadata": {
    "execution": {
     "iopub.execute_input": "2021-10-08T22:08:55.097909Z",
     "iopub.status.busy": "2021-10-08T22:08:55.097671Z",
     "iopub.status.idle": "2021-10-08T22:08:55.123066Z",
     "shell.execute_reply": "2021-10-08T22:08:55.122350Z",
     "shell.execute_reply.started": "2021-10-08T22:08:55.097882Z"
    },
    "trusted": true
   },
   "outputs": [],
   "source": [
    "\n",
    "# recommendations based validtaion\n",
    "def matrix_factorization_val(validation_df,training_df,fold):\n",
    "    if fold > 0 :\n",
    "        user_id_count = 0\n",
    "        no_rec = 0\n",
    "        total_precision_score = 0\n",
    "        total_recall_score = 0\n",
    "        apks = []\n",
    "        arks = []\n",
    "        TP=[]\n",
    "        FP=[]\n",
    "        TN=[]\n",
    "        FN=[]\n",
    "        svdRecommender = FunkSVDRecommender()\n",
    "        for user_id, users_test_data in validation_df.groupby('user_id'):\n",
    "            user_id_count += 1\n",
    "            training_data_for_user = training_df.loc[(training_df['user_id'] == user_id),'layout_id'].tolist()  # confirm that users' in test data must exist in the training too\n",
    "            # dictionary contains the layouts visited by current user from training set to find recommendation for him     \n",
    "            dict_for_rec = training_data_for_user\n",
    "            # recommender will recommend layouts based on \"dict_for_rec\" recommended layouts will be compared with relevent_ratings list\n",
    "            relevant_ratings = list(users_test_data['layout_id']) \n",
    "            if len(dict_for_rec) > 0:\n",
    "                # find maximum top 5 recommendation for each user in test data given the list of layouts from training data or users' past visited layouts\n",
    "                recs = svdRecommender.recommend_items_by_ratings(user_id, dict_for_rec, num=5)\n",
    "                # if user has visited 6 out of 10 layout then recommender will recommend top 4 unvisited layout 1 needs to be optimised\n",
    "                # if user has visited 2 out of 10 layouts then recommender will recommend top 5 layouts to the user\n",
    "\n",
    "                if len(recs)>0:\n",
    "                    AP = average_precision_k(recs, relevant_ratings) # average precision@k\n",
    "                    AR = recall_at_k(recs, relevant_ratings) # average recall@k\n",
    "                    tP,fP,fN,tN = confusion_matrix_func(recs, relevant_ratings)\n",
    "                    arks.append(AR)\n",
    "                    apks.append(AP)\n",
    "                    TP.append(tP)\n",
    "                    FP.append(fP)\n",
    "                    TN.append(tN)\n",
    "                    FN.append(fN)\n",
    "                    total_precision_score += AP\n",
    "                    total_recall_score += AR\n",
    "                else:\n",
    "                    no_rec += 1\n",
    "                # find recommended layouts by runing following commands\n",
    "                # print(' Recommended Layouts',recs)             \n",
    "                # relevent layout is supposed as the user interaction to the layouts after getting recommendations\n",
    "                # print('user: {}, user visited layouts: {}'.format(user_id,relevant_ratings)) \n",
    "                # relevent layout is supposed as the user interaction to the layouts after getting recommendations\n",
    "                #print('cold Start Users: {}'.format(cold_start_users))\n",
    "            \n",
    "        tP = sum(TP)\n",
    "        fP = sum(FP)\n",
    "        fN = sum(FN)\n",
    "        tN = sum(TN)\n",
    "        average_recall = total_recall_score/len(arks) if len(arks) > 0 else 0\n",
    "        mean_average_precision = total_precision_score/len(apks) if len(apks) > 0 else 0\n",
    "        output_str = \"fold:{} MAP@K {}, MAR@K {}, len-ap {}, len-ar {}, no_recs {}\"\n",
    "        print(output_str.format(fold, mean_average_precision, average_recall, len(apks), len(arks),  no_rec),'\\n')\n",
    "        \n",
    "    return (tP,fP,fN,tN)"
   ]
  },
  {
   "cell_type": "code",
   "execution_count": 8,
   "metadata": {
    "execution": {
     "iopub.execute_input": "2021-10-08T22:08:55.158103Z",
     "iopub.status.busy": "2021-10-08T22:08:55.157812Z",
     "iopub.status.idle": "2021-10-08T22:08:55.179245Z",
     "shell.execute_reply": "2021-10-08T22:08:55.178298Z",
     "shell.execute_reply.started": "2021-10-08T22:08:55.158058Z"
    },
    "trusted": true
   },
   "outputs": [],
   "source": [
    "# Predicting ratings of layouts\n",
    "class FunkSVDRecs:\n",
    "    \n",
    "    def __init__(self):\n",
    "        self.user_bias = None\n",
    "        self.item_bias = None\n",
    "        self.avg = None\n",
    "        self.modelpath = 'Models/matrixfactorization'\n",
    "        self.user_factors = None\n",
    "        self.item_factors = None\n",
    "        self.ordered_item_bias = None\n",
    "        self.model_loaded = None\n",
    "        self.model_loaded = False\n",
    "        self.load_model()\n",
    "    #load model\n",
    "    def load_model(self):\n",
    "        get_path = self.modelpath + '\\\\'\n",
    "        with open(get_path+'user_bias.data', 'rb') as ub_file:\n",
    "            self.user_bias = pickle.load(ub_file)\n",
    "        with open(get_path+'item_bias.data', 'rb') as ub_file:\n",
    "            self.item_bias = pickle.load(ub_file)\n",
    "        with open(get_path+'avg.npy', 'rb') as f:\n",
    "            self.avg = np.load(f)\n",
    "       \n",
    "        with open(get_path+'user_factors.json', 'r') as infile:\n",
    "            self.user_factors = pd.DataFrame(json.load(infile)).T\n",
    "        with open(get_path+'item_factors.json', 'r') as infile:\n",
    "            self.item_factors = pd.DataFrame(json.load(infile)).T\n",
    "        self.ordered_item_bias = list(collections.OrderedDict(sorted(self.item_bias.items())).values())\n",
    "        self.model_loaded = True\n",
    "    # predict ratings of given layouts by considering current user's (user_id) past behavior\n",
    "    def predict(self, user_id, list_user_layouts, df):\n",
    "        prediction = None\n",
    "        rated_layouts = list_user_layouts\n",
    "        avg = self.avg\n",
    "        if self.model_loaded:\n",
    "            for item in rated_layouts:\n",
    "                if str(user_id) in self.user_factors.columns and str(item) in self.item_factors.columns:\n",
    "                \n",
    "                    user = self.user_factors[str(user_id)]\n",
    "\n",
    "                    items = self.item_factors[str(item)]\n",
    "                    user_bias = 0\n",
    "                    if user_id in self.user_bias.keys():\n",
    "                        user_bias = self.user_bias[user_id]\n",
    "                    elif int(user_id) in self.user_bias.keys():\n",
    "                        user_bias = self.user_bias[int(user_id)]\n",
    "                        print(f'it was an int {user_bias}')\n",
    "\n",
    "\n",
    "                    pq = np.dot(items,user)\n",
    "                    b_ui = avg + user_bias + self.item_bias[item]\n",
    "\n",
    "                    prediction = b_ui + pq\n",
    "\n",
    "                    if prediction > 5:\n",
    "                        prediction = 5\n",
    "                    elif prediction < 1:\n",
    "                        prediction = 1\n",
    "                    df.loc[(df.user_id==user_id)&(df.layout_id==item),'prediction'] = prediction\n",
    "              \n",
    "        return df\n",
    "    \n"
   ]
  },
  {
   "cell_type": "code",
   "execution_count": 9,
   "metadata": {
    "execution": {
     "iopub.execute_input": "2021-10-08T22:08:55.181001Z",
     "iopub.status.busy": "2021-10-08T22:08:55.180646Z",
     "iopub.status.idle": "2021-10-08T22:08:55.195780Z",
     "shell.execute_reply": "2021-10-08T22:08:55.194827Z",
     "shell.execute_reply.started": "2021-10-08T22:08:55.180970Z"
    },
    "trusted": true
   },
   "outputs": [],
   "source": [
    "# measuring statistical accuracy metrics\n",
    "def print_validation_rmse_mae(validations_df):\n",
    "    rmse = None\n",
    "    mae=None\n",
    "    if ~validations_df['prediction'].isna().any():\n",
    "        rmse = (math.sqrt(mean_squared_error(validations_df.ratings, validations_df.prediction)))\n",
    "        mae = (mean_absolute_error(validations_df.ratings, validations_df.prediction))\n",
    "    else:\n",
    "        validations_df.loc[(validations_df['prediction'].isna()),'prediction']=0.0\n",
    "        rmse = (math.sqrt(mean_squared_error(validations_df.ratings, validations_df.prediction)))\n",
    "        mae = (mean_absolute_error(validations_df.ratings, validations_df.prediction))\n",
    "    return rmse,mae"
   ]
  },
  {
   "cell_type": "code",
   "execution_count": 10,
   "metadata": {},
   "outputs": [],
   "source": [
    "def process_confusionMatrix(TP,FP,TN,FN, folds):\n",
    "    L_TPR = []\n",
    "    L_TNR = []\n",
    "    L_PPV = []\n",
    "    L_NPV = []\n",
    "    L_FPR = []\n",
    "    L_FNR = []\n",
    "    L_FDR = []\n",
    "    L_ACC = []\n",
    "    L_F1 = []\n",
    "    for i in range(folds):\n",
    "        # Acuuracy\n",
    "        #if TP[i] >0 & FP[i] >0 &FN[i] >0 & TN[i] >0:\n",
    "        ACC = (TP[i]+TN[i])/(TP[i]+FP[i]+FN[i]+TN[i])\n",
    "        # Sensitivity, hit rate, recall, or true positive rate \n",
    "        TPR = TP[i]/(TP[i]+FN[i])\n",
    "        # Precision or positive predictive value\n",
    "        PPV = TP[i]/(TP[i]+FP[i])\n",
    "        # Specificity or true negative rate\n",
    "        TNR = TN[i]/(TN[i]+FP[i]) \n",
    "        # Negative predictive value\n",
    "        NPV = TN[i]/(TN[i]+FN[i])\n",
    "        # Fall out or false positive rate\n",
    "        FPR = FP[i]/(FP[i]+TN[i])\n",
    "        # False negative rate\n",
    "        FNR = FN[i]/(TP[i]+FN[i])\n",
    "        # False discovery rate\n",
    "        FDR = FP[i]/(TP[i]+FP[i])\n",
    "        # F1 scroe\n",
    "        F1 = 2 * (PPV * TPR)/(PPV + TPR)\n",
    "        L_ACC.append(ACC)\n",
    "        L_TPR.append(TPR)\n",
    "        L_PPV.append(PPV)\n",
    "        L_F1.append(F1)\n",
    "\n",
    "        # uncomment to measure more accuracy metrics\n",
    "        # L_TNR.append(TNR)\n",
    "        # L_NPV.append(NPV)\n",
    "        # L_FPR.append(FPR)\n",
    "        # L_FNR.append(FNR)\n",
    "        # L_FDR.append(FDR)\n",
    "        #print('TPR/Recall: {}, TNR: {}, PPV/Precision: {}, F1: {}'.format(TPR,TNR,PPV,NPV,FPR,FNR, FDR, ACC, F1))\n",
    "        \n",
    "    \n",
    "    fig = plt.figure(figsize = (5,4))\n",
    "    ax = fig.add_axes([1,1,1,1])\n",
    "    ax.set_title('Precision and Recall',fontsize=12)\n",
    "    ax.set_xlabel('K-folds',fontsize=12)\n",
    "    ax.set_ylabel('Precision and Recall',fontsize=12)\n",
    "    ax.plot(L_TPR,label='Recall')\n",
    "    ax.plot(L_PPV,label='Precision')\n",
    "    ax.legend()\n",
    " \n",
    "    if len(L_ACC)==folds and len(L_TPR)==folds and len(L_PPV)==folds and len(L_F1)==folds:\n",
    "        TP_FP_TN_FN = pd.DataFrame()\n",
    "        for f in range(folds):\n",
    "            TP_FP_TN_FN.loc[f,'TP'] = TP[f]\n",
    "            TP_FP_TN_FN.loc[f,'FP'] = FP[f]\n",
    "            TP_FP_TN_FN.loc[f,'TN'] = TN[f]\n",
    "            TP_FP_TN_FN.loc[f,'FN'] = FN[f]\n",
    "        print(TP_FP_TN_FN)\n",
    "        print(\"Confusion matrix of all folds\")\n",
    "        print('TP{}\\n FP{}\\n TN{}\\n FN{}\\n'.format(TP,FP,TN,FN))\n",
    "        print('L_ACC/Accuracy: {}, L_TPR/Recall: {}, L_PPV/Precision: {}, L_F1: {}'.format(L_ACC,L_TPR,L_PPV, L_F1))\n",
    "        print('L_ACC_mean/Accuracy_mean: {}, L_TPR_mean/Recall_mean: {}, L_PPV_mean/Precision_mean: {}, L_F1_mean: {}'.\n",
    "        format(sum(L_ACC)/len(L_ACC),sum(L_TPR)/len(L_TPR),sum(L_PPV)/len(L_PPV),sum(L_F1)/len(L_F1)))\n",
    "    \n"
   ]
  },
  {
   "cell_type": "markdown",
   "metadata": {
    "execution": {
     "iopub.execute_input": "2021-09-08T17:17:59.473128Z",
     "iopub.status.busy": "2021-09-08T17:17:59.472757Z",
     "iopub.status.idle": "2021-09-08T17:17:59.476759Z",
     "shell.execute_reply": "2021-09-08T17:17:59.475861Z",
     "shell.execute_reply.started": "2021-09-08T17:17:59.473098Z"
    }
   },
   "source": [
    "### cross validation of matrix factorization based recommender system"
   ]
  },
  {
   "cell_type": "code",
   "execution_count": 11,
   "metadata": {
    "execution": {
     "iopub.execute_input": "2021-10-08T22:08:55.222767Z",
     "iopub.status.busy": "2021-10-08T22:08:55.222059Z",
     "iopub.status.idle": "2021-10-08T22:08:55.245576Z",
     "shell.execute_reply": "2021-10-08T22:08:55.244336Z",
     "shell.execute_reply.started": "2021-10-08T22:08:55.222722Z"
    },
    "trusted": true
   },
   "outputs": [],
   "source": [
    "def k_fold_training_testing(folds):  \n",
    "    max_iterations=65\n",
    "    RMSE_funk = []\n",
    "    MAE_funk = []\n",
    "    fold = 1\n",
    "    TP=[]\n",
    "    FP=[]\n",
    "    TN=[]\n",
    "    FN=[]\n",
    "    for train_index, test_index in kf.split(result):\n",
    "        columns = result.columns\n",
    "        validation_df = pd.DataFrame(columns=columns)\n",
    "        training_df = pd.DataFrame(columns=columns)\n",
    "        validation_df = result.loc[test_index,:]\n",
    "        training_df = result.loc[train_index,:]\n",
    "        lr=0.00002 \n",
    "        mf_obj = MF(max_iterations, lr)\n",
    "        print(mf_obj.train(training_df, 10, fold))\n",
    "\n",
    "        fkrecs = FunkSVDRecs()\n",
    "        users_list = validation_df.user_id.unique().tolist()\n",
    "        layouts_visited_list = []\n",
    "        for user in users_list:\n",
    "            list_user_layouts = validation_df.loc[(validation_df.user_id == user),'layout_id']\n",
    "            layouts_visited_list = list_user_layouts\n",
    "            validation_df_funk = fkrecs.predict(user ,list_user_layouts,validation_df)\n",
    "        rmse = None\n",
    "        mae = None\n",
    "        rmse , mae = print_validation_rmse_mae(validation_df_funk)\n",
    "        RMSE_funk.append(rmse)\n",
    "        MAE_funk.append(mae)\n",
    "        \n",
    "        tP,fP,fN,tN = matrix_factorization_val(validation_df,training_df,fold)\n",
    "        TP.append(tP)\n",
    "        FP.append(fP)\n",
    "        TN.append(tN)\n",
    "        FN.append(fN)\n",
    "        \n",
    "        fold =fold+1\n",
    "    if len(TP)==folds and len(FP)==folds and len(TN)==folds and len(FN)==folds:\n",
    "        fig = plt.figure(figsize = (5,4))\n",
    "        ax = fig.add_axes([1,1,1,1])\n",
    "        ax.set_title('Confusion matrix of k_folds',fontsize=12)\n",
    "        ax.set_xlabel('K-folds',fontsize=12)\n",
    "        ax.set_ylabel('TP,FP,FN,TN',fontsize=12)\n",
    "        ax.plot(range(folds), TP,label = 'TP')\n",
    "        ax.plot(range(folds), FP,label = 'FP')\n",
    "        ax.plot(range(folds), TN,label = 'TN')\n",
    "        ax.plot(range(folds), FN,label = 'FN')\n",
    "        ax.legend()\n",
    "        process_confusionMatrix(TP,FP,TN,FN,folds)\n",
    "        \n",
    "        \n",
    "    fig = plt.figure(figsize = (5,4))\n",
    "    ax = fig.add_axes([0,0,1,1])\n",
    "    ax.set_title('RMSE and MAE on each fold',fontsize=12)\n",
    "    ax.set_xlabel('k-folds',fontsize=12)\n",
    "    ax.set_ylabel('MAE-RMSE',fontsize=12)\n",
    "    ax.bar(range(folds), RMSE_funk,label = 'Root Mean Square Error (RMSE)')\n",
    "    ax.bar(range(folds), MAE_funk,label='Mean Absolute Error (MAE)')\n",
    "    ax.legend()\n",
    "    \n",
    "    \n",
    "    # print('RMSE_funk: {}, MAE_funk: {}'.format(RMSE_funk,MAE_funk))\n",
    "    # print('Average RMSE_funk: {}, Average MAE_funk: {}'.format((sum(RMSE_funk))/len(RMSE_funk),(sum(MAE_funk))/len(MAE_funk)))\n",
    "#     # validate based on recommendations\n",
    "#     # Matrix Factorization\n"
   ]
  },
  {
   "cell_type": "code",
   "execution_count": 12,
   "metadata": {},
   "outputs": [
    {
     "name": "stderr",
     "output_type": "stream",
     "text": [
      "No handles with labels found to put in legend.\n"
     ]
    },
    {
     "name": "stdout",
     "output_type": "stream",
     "text": [
      "None\n",
      "fold:1 MAP@K 1.2833333333333332, MAR@K 1.0, len-ap 1, len-ar 1, no_recs 0 \n",
      "\n"
     ]
    },
    {
     "name": "stderr",
     "output_type": "stream",
     "text": [
      "No handles with labels found to put in legend.\n"
     ]
    },
    {
     "name": "stdout",
     "output_type": "stream",
     "text": [
      "None\n",
      "fold:2 MAP@K 0.56875, MAR@K 0.5, len-ap 2, len-ar 2, no_recs 0 \n",
      "\n"
     ]
    },
    {
     "name": "stderr",
     "output_type": "stream",
     "text": [
      "No handles with labels found to put in legend.\n"
     ]
    },
    {
     "name": "stdout",
     "output_type": "stream",
     "text": [
      "None\n",
      "fold:3 MAP@K 0.8548611111111111, MAR@K 0.75, len-ap 2, len-ar 2, no_recs 0 \n",
      "\n"
     ]
    },
    {
     "name": "stderr",
     "output_type": "stream",
     "text": [
      "No handles with labels found to put in legend.\n"
     ]
    },
    {
     "name": "stdout",
     "output_type": "stream",
     "text": [
      "None\n",
      "fold:4 MAP@K 0.5675, MAR@K 0.65, len-ap 2, len-ar 2, no_recs 0 \n",
      "\n"
     ]
    },
    {
     "name": "stderr",
     "output_type": "stream",
     "text": [
      "No handles with labels found to put in legend.\n"
     ]
    },
    {
     "name": "stdout",
     "output_type": "stream",
     "text": [
      "None\n",
      "fold:5 MAP@K 0.8388888888888889, MAR@K 1.0, len-ap 1, len-ar 1, no_recs 0 \n",
      "\n",
      "    TP   FP   TN   FN\n",
      "0  1.0  4.0  5.0  0.0\n",
      "1  4.0  6.0  6.0  4.0\n",
      "2  5.0  5.0  8.0  2.0\n",
      "3  5.0  5.0  8.0  2.0\n",
      "4  3.0  2.0  5.0  0.0\n",
      "Confusion matrix of all folds\n",
      "TP[1, 4, 5, 5, 3]\n",
      " FP[4, 6, 5, 5, 2]\n",
      " TN[5, 6, 8, 8, 5]\n",
      " FN[0, 4, 2, 2, 0]\n",
      "\n",
      "L_ACC/Accuracy: [0.6, 0.5, 0.65, 0.65, 0.8], L_TPR/Recall: [1.0, 0.5, 0.7142857142857143, 0.7142857142857143, 1.0], L_PPV/Precision: [0.2, 0.4, 0.5, 0.5, 0.6], L_F1: [0.33333333333333337, 0.4444444444444445, 0.588235294117647, 0.588235294117647, 0.7499999999999999]\n",
      "L_ACC_mean/Accuracy_mean: 0.64, L_TPR_mean/Recall_mean: 0.7857142857142858, L_PPV_mean/Precision_mean: 0.44000000000000006, L_F1_mean: 0.5408496732026143\n"
     ]
    },
    {
     "data": {
      "image/png": "[encoded data removed]",
      "text/plain": [
       "<Figure size 360x288 with 1 Axes>"
      ]
     },
     "metadata": {
      "needs_background": "light"
     },
     "output_type": "display_data"
    },
    {
     "data": {
      "image/png": "[encoded data removed]",
      "text/plain": [
       "<Figure size 360x288 with 1 Axes>"
      ]
     },
     "metadata": {
      "needs_background": "light"
     },
     "output_type": "display_data"
    },
    {
     "data": {
      "image/png": "[encoded data removed]",
      "text/plain": [
       "<Figure size 360x288 with 1 Axes>"
      ]
     },
     "metadata": {
      "needs_background": "light"
     },
     "output_type": "display_data"
    },
    {
     "data": {
      "image/png": "[encoded data removed]",
      "text/plain": [
       "<Figure size 360x288 with 1 Axes>"
      ]
     },
     "metadata": {
      "needs_background": "light"
     },
     "output_type": "display_data"
    },
    {
     "data": {
      "image/png": "[encoded data removed]",
      "text/plain": [
       "<Figure size 360x288 with 1 Axes>"
      ]
     },
     "metadata": {
      "needs_background": "light"
     },
     "output_type": "display_data"
    },
    {
     "data": {
      "image/png": "[encoded data removed]",
      "text/plain": [
       "<Figure size 360x288 with 1 Axes>"
      ]
     },
     "metadata": {
      "needs_background": "light"
     },
     "output_type": "display_data"
    },
    {
     "data": {
      "image/png": "[encoded data removed]",
      "text/plain": [
       "<Figure size 360x288 with 1 Axes>"
      ]
     },
     "metadata": {
      "needs_background": "light"
     },
     "output_type": "display_data"
    },
    {
     "data": {
      "image/png": "[encoded data removed]",
      "text/plain": [
       "<Figure size 360x288 with 1 Axes>"
      ]
     },
     "metadata": {
      "needs_background": "light"
     },
     "output_type": "display_data"
    }
   ],
   "source": [
    "k_fold_training_testing(kf.n_splits)"
   ]
  },
  {
   "cell_type": "markdown",
   "metadata": {},
   "source": [
    "## Hold-Out Validation"
   ]
  },
  {
   "cell_type": "code",
   "execution_count": 13,
   "metadata": {},
   "outputs": [
    {
     "name": "stdout",
     "output_type": "stream",
     "text": [
      "training_df shape:  (30, 4)\n",
      "validation_df shape:  (8, 4)\n"
     ]
    }
   ],
   "source": [
    "training_df, validation_df = train_test_split(result, test_size=.2, random_state=42)\n",
    "training_df = training_df.reset_index()\n",
    "validation_df = validation_df.reset_index()\n",
    "print(\"training_df shape: \",training_df.shape)\n",
    "print(\"validation_df shape: \",validation_df.shape)"
   ]
  },
  {
   "cell_type": "code",
   "execution_count": 14,
   "metadata": {
    "execution": {
     "iopub.execute_input": "2021-10-08T22:09:02.829539Z",
     "iopub.status.busy": "2021-10-08T22:09:02.829207Z",
     "iopub.status.idle": "2021-10-08T22:09:03.173761Z",
     "shell.execute_reply": "2021-10-08T22:09:03.172956Z",
     "shell.execute_reply.started": "2021-10-08T22:09:02.829496Z"
    },
    "trusted": true
   },
   "outputs": [
    {
     "name": "stdout",
     "output_type": "stream",
     "text": [
      "TestData\n",
      "users_list: u 11\n",
      " layouts_visited_list: 0    GLHS2\n",
      "4       L4\n",
      "5       L3\n",
      "7       L2\n",
      "Name: layout_id, dtype: object\n",
      "\n",
      "TestData\n",
      "users_list: u 12\n",
      " layouts_visited_list: 1    GLHS5\n",
      "Name: layout_id, dtype: object\n",
      "\n",
      "TestData\n",
      "users_list: u 4\n",
      " layouts_visited_list: 2    GLHS2\n",
      "6       L3\n",
      "Name: layout_id, dtype: object\n",
      "\n",
      "TestData\n",
      "users_list: u 9\n",
      " layouts_visited_list: 3    GLHS2\n",
      "Name: layout_id, dtype: object\n",
      "\n",
      "   index user_id layout_id  ratings  prediction\n",
      "0     33    u 11     GLHS2      1.0    2.166823\n",
      "1     36    u 12     GLHS5      1.0         NaN\n",
      "2      4     u 4     GLHS2      1.0    1.409700\n",
      "3     13     u 9     GLHS2      1.0    1.293250\n",
      "4     30    u 11        L4      4.0    2.448032\n",
      "5     26    u 11        L3      3.0    2.428196\n",
      "6      6     u 4        L3      1.0    1.671073\n",
      "7     27    u 11        L2      5.0    2.562459\n"
     ]
    },
    {
     "data": {
      "text/plain": [
       "<matplotlib.legend.Legend at 0x29d1eb69790>"
      ]
     },
     "execution_count": 14,
     "metadata": {},
     "output_type": "execute_result"
    },
    {
     "data": {
      "image/png": "[encoded data removed]",
      "text/plain": [
       "<Figure size 144x288 with 1 Axes>"
      ]
     },
     "metadata": {
      "needs_background": "light"
     },
     "output_type": "display_data"
    }
   ],
   "source": [
    "\n",
    "RMSE_funk = []\n",
    "MAE_funk = []\n",
    "fkrecs = FunkSVDRecs()\n",
    "users_list = validation_df.user_id.unique().tolist()\n",
    "validation_df_funk = {}\n",
    "layouts_visited_list = []\n",
    "for user in users_list:\n",
    "    list_user_layouts = validation_df.loc[(validation_df.user_id == user),'layout_id']\n",
    "    layouts_visited_list = list_user_layouts\n",
    "    validation_df_funk = fkrecs.predict(user ,list_user_layouts,validation_df)\n",
    "    print('TestData\\nusers_list: {}\\n layouts_visited_list: {}\\n'.format(user,layouts_visited_list))\n",
    "rmse = None\n",
    "mae = None\n",
    "print(validation_df_funk)\n",
    "rmse , mae = print_validation_rmse_mae(validation_df_funk)\n",
    "\n",
    "RMSE_funk.append(rmse)\n",
    "MAE_funk.append(mae)\n",
    "fig = plt.figure(figsize = (2,4))\n",
    "ax = fig.add_axes([0,0,1,1])\n",
    "ax.set_title('RMSE and MAE on Matrix Factorization(MF)',fontsize=12)\n",
    "ax.set_xlabel('MF',fontsize=12)\n",
    "ax.set_ylabel('MAE-RMSE',fontsize=12)\n",
    "#print('RMSE_funk: {}, MAE_funk: {}'.format(RMSE_funk, MAE_funk))\n",
    "ax.bar(range(1), RMSE_funk,label = 'Root Mean Square Error (RMSE)')\n",
    "ax.bar(range(1), MAE_funk,label='Mean Absolute Error (MAE)')\n",
    "ax.legend()"
   ]
  },
  {
   "cell_type": "code",
   "execution_count": 15,
   "metadata": {
    "execution": {
     "iopub.execute_input": "2021-10-08T22:09:03.176239Z",
     "iopub.status.busy": "2021-10-08T22:09:03.175760Z",
     "iopub.status.idle": "2021-10-08T22:09:03.196071Z",
     "shell.execute_reply": "2021-10-08T22:09:03.195103Z",
     "shell.execute_reply.started": "2021-10-08T22:09:03.176202Z"
    },
    "trusted": true
   },
   "outputs": [],
   "source": [
    "def matrix_factorization_val_Hold_Out(validation_df,training_df):\n",
    "    user_id_count = 0\n",
    "    apks = []\n",
    "    arks = []\n",
    "    no_rec = 0\n",
    "    total_precision_score = 0\n",
    "    total_recall_score = 0\n",
    "    svdRecommender = FunkSVDRecommender()\n",
    "    TP = 0\n",
    "    FP = 0\n",
    "    TN = 0 \n",
    "    FN = 0\n",
    "    for user_id, users_test_data in validation_df.groupby('user_id'):\n",
    "        user_id_count += 1\n",
    "         # confirm that users' in test data must exist in the training too\n",
    "        training_data_for_user = training_df.loc[(training_df['user_id'] == user_id),'layout_id'].tolist() \n",
    "        \n",
    "\n",
    "        #dict_for_rec = training_data_for_user.to_dict(orient='records')# dictionary contains the layouts visited by current user from training set to find recommendation for him   \n",
    "        dict_for_rec = training_data_for_user\n",
    "        print('\\ndict_for_rec: {} \\n'.format(dict_for_rec))    \n",
    "        relevant_ratings = list(users_test_data['layout_id']) # recommender will recommend layouts based on \"dict_for_rec\" recommended layouts will be compared with relevent_ratings list\n",
    "        if len(dict_for_rec) > 0:\n",
    "            recs = svdRecommender.recommend_items_by_ratings(user_id, dict_for_rec, num=5)# find maximum top 5 recommendation for each user in test data given the list of layouts from training data\n",
    "            # if user has visited 6 out of 10 layout then recommender will recommend top 4 unvisited layout 1 needs to be optimised\n",
    "            # if user has visited 2 out of 10 layouts then recommender will recommend top 5 layouts to the user\n",
    "            \n",
    "            if len(recs)>0:\n",
    "                AP = average_precision_k(recs, relevant_ratings) # average precision@k\n",
    "                AR = recall_at_k(recs, relevant_ratings) # average recall@k\n",
    "                TP,FP,FN,TN = confusion_matrix_func(recs, relevant_ratings)\n",
    "                arks.append(AR)\n",
    "                apks.append(AP)\n",
    "                total_precision_score += AP\n",
    "                total_recall_score += AR\n",
    "                \n",
    "                print('user_id{},True_Positive: {}, False_Positive: {}, True_Negative: {}, False_Negative: {}'.format(user_id,TP,FP,TN,FN))\n",
    "                ACC = (TP+TN)/(TP+FP+FN+TN)\n",
    "                # Sensitivity, hit rate, recall, or true positive rate \n",
    "                TPR = TP/(TP+FN)\n",
    "                # Precision or positive predictive value\n",
    "                PPV = TP/(TP+FP)\n",
    "                # Specificity or true negative rate\n",
    "                TNR = TN/(TN+FP) \n",
    "                # Negative predictive value\n",
    "                NPV = TN/(TN+FN)\n",
    "                # Fall out or false positive rate\n",
    "                FPR = FP/(FP+TN)\n",
    "                # False negative rate\n",
    "                FNR = FN/(TP+FN)\n",
    "                # False discovery rate\n",
    "                FDR = FP/(TP+FP)\n",
    "                # F1 scroe\n",
    "                F1 = 2 * (PPV * TPR)/(PPV + TPR)\n",
    "                print('TPR/Recall: {}, PPV/Precision: {}, Accuracy: {}, F1: {}'.format(TPR,PPV, ACC, F1))\n",
    "\n",
    "#                 plt_dict_confusion_analysis = {'Acuuracy':L_ACC,'Sensitivity, hit rate, recall, or true positive rate':L_TPR,'Precision or positive predictive value':L_PPV,'Specificity or true negative rate':L_TNR,\n",
    "#                                               'Negative predictive value':L_NPV,'Fall out or false positive rate':L_FPR,'alse negative rate':L_FNR,'False discovery rate':L_FDR, 'F1 Score':L_F1} \n",
    "    \n",
    "                \n",
    "            else:\n",
    "                no_rec += 1\n",
    "\n",
    "            print(' Recommended Layouts',recs)             \n",
    "            print('user: {}, user visited layouts: {}'.format(user_id,relevant_ratings)) # relevent layout is supposed as the user interaction to the layouts after getting recommendations\n",
    "            #print('cold Start Users: {}'.format(cold_start_users)) # relevent layout is supposed as the user interaction to the layouts after getting recommendations\n",
    "           \n",
    "        print()  \n",
    "\n",
    "    average_recall = total_recall_score/len(arks) if len(arks) > 0 else 0\n",
    "    mean_average_precision = total_precision_score/len(apks) if len(apks) > 0 else 0\n",
    "    output_str = \" MAP@K {}, MAR@K {}, len-ap {}, len-ar {}, no_recs {}\"\n",
    "    print(output_str.format( mean_average_precision, average_recall, len(apks), len(arks),  no_rec),'\\n')"
   ]
  },
  {
   "cell_type": "code",
   "execution_count": 16,
   "metadata": {
    "execution": {
     "iopub.execute_input": "2021-10-08T22:09:03.197894Z",
     "iopub.status.busy": "2021-10-08T22:09:03.197609Z",
     "iopub.status.idle": "2021-10-08T22:09:03.235298Z",
     "shell.execute_reply": "2021-10-08T22:09:03.234350Z",
     "shell.execute_reply.started": "2021-10-08T22:09:03.197861Z"
    },
    "trusted": true
   },
   "outputs": [
    {
     "name": "stdout",
     "output_type": "stream",
     "text": [
      "\n",
      "dict_for_rec: ['L5', 'GLHS4', 'GLHS1', 'GLHS3'] \n",
      "\n",
      "user_idu 11,True_Positive: 4, False_Positive: 1, True_Negative: 5, False_Negative: 0\n",
      "TPR/Recall: 1.0, PPV/Precision: 0.8, Accuracy: 0.9, F1: 0.888888888888889\n",
      " Recommended Layouts [('L2', {'prediction': 2.5624594971304964}), ('GLHS5', {'prediction': 2.458916234783971}), ('L4', {'prediction': 2.448031643459436}), ('L3', {'prediction': 2.428195639149353}), ('GLHS2', {'prediction': 2.16682285547618})]\n",
      "user: u 11, user visited layouts: ['GLHS2', 'L4', 'L3', 'L2']\n",
      "\n",
      "\n",
      "dict_for_rec: ['L2', 'L3', 'L4'] \n",
      "\n",
      " Recommended Layouts []\n",
      "user: u 12, user visited layouts: ['GLHS5']\n",
      "\n",
      "\n",
      "dict_for_rec: ['GLHS1', 'L1'] \n",
      "\n",
      "user_idu 4,True_Positive: 1, False_Positive: 4, True_Negative: 4, False_Negative: 1\n",
      "TPR/Recall: 0.5, PPV/Precision: 0.2, Accuracy: 0.5, F1: 0.28571428571428575\n",
      " Recommended Layouts [('L2', {'prediction': 1.8053364347189398}), ('GLHS5', {'prediction': 1.7017931804626447}), ('L4', {'prediction': 1.6909085898746292}), ('L3', {'prediction': 1.6710725868281897}), ('L5', {'prediction': 1.6099655965638495})]\n",
      "user: u 4, user visited layouts: ['GLHS2', 'L3']\n",
      "\n",
      "\n",
      "dict_for_rec: ['L4', 'L5', 'GLHS3', 'GLHS1', 'GLHS5', 'L2'] \n",
      "\n",
      "user_idu 9,True_Positive: 1, False_Positive: 3, True_Negative: 6, False_Negative: 0\n",
      "TPR/Recall: 1.0, PPV/Precision: 0.25, Accuracy: 0.7, F1: 0.4\n",
      " Recommended Layouts [('L3', {'prediction': 1.5546232094228596}), ('GLHS4', {'prediction': 1.2978152108903025}), ('GLHS2', {'prediction': 1.2932504497879642}), ('L1', {'prediction': 1.1316956775562095})]\n",
      "user: u 9, user visited layouts: ['GLHS2']\n",
      "\n",
      " MAP@K 0.5791666666666667, MAR@K 0.8333333333333334, len-ap 3, len-ar 3, no_recs 1 \n",
      "\n",
      "None\n"
     ]
    }
   ],
   "source": [
    "print(matrix_factorization_val_Hold_Out(validation_df,training_df))"
   ]
  },
  {
   "cell_type": "code",
   "execution_count": 17,
   "metadata": {
    "execution": {
     "iopub.execute_input": "2021-10-08T22:09:03.237149Z",
     "iopub.status.busy": "2021-10-08T22:09:03.236827Z",
     "iopub.status.idle": "2021-10-08T22:09:03.297368Z",
     "shell.execute_reply": "2021-10-08T22:09:03.296149Z",
     "shell.execute_reply.started": "2021-10-08T22:09:03.237105Z"
    },
    "trusted": true
   },
   "outputs": [
    {
     "name": "stdout",
     "output_type": "stream",
     "text": [
      "user_id: u 11\n",
      "user past visited layouts:\n",
      " 8        L5\n",
      "17    GLHS4\n",
      "22    GLHS1\n",
      "29    GLHS3\n",
      "Name: layout_id, dtype: object\n",
      "recommended_layouts: \n",
      "[('L2', {'prediction': 2.5624594971304964}), ('GLHS5', {'prediction': 2.458916234783971}), ('L4', {'prediction': 2.448031643459436}), ('L3', {'prediction': 2.428195639149353}), ('GLHS2', {'prediction': 2.16682285547618})]\n",
      "\n",
      "user_id: u 12\n",
      "user past visited layouts:\n",
      " 14    L2\n",
      "18    L3\n",
      "20    L4\n",
      "Name: layout_id, dtype: object\n",
      "recommended_layouts: \n",
      "[]\n",
      "\n",
      "user_id: u 4\n",
      "user past visited layouts:\n",
      " 11    GLHS1\n",
      "19       L1\n",
      "Name: layout_id, dtype: object\n",
      "recommended_layouts: \n",
      "[('L2', {'prediction': 1.8053364347189398}), ('GLHS5', {'prediction': 1.7017931804626447}), ('L4', {'prediction': 1.6909085898746292}), ('L3', {'prediction': 1.6710725868281897}), ('L5', {'prediction': 1.6099655965638495})]\n",
      "\n",
      "user_id: u 9\n",
      "user past visited layouts:\n",
      " 1        L4\n",
      "2        L5\n",
      "4     GLHS3\n",
      "5     GLHS1\n",
      "25    GLHS5\n",
      "28       L2\n",
      "Name: layout_id, dtype: object\n",
      "recommended_layouts: \n",
      "[('L3', {'prediction': 1.5546232094228596}), ('GLHS4', {'prediction': 1.2978152108903025}), ('GLHS2', {'prediction': 1.2932504497879642}), ('L1', {'prediction': 1.1316956775562095})]\n",
      "\n"
     ]
    }
   ],
   "source": [
    "# making recommendations for individual user\n",
    "class FunkSVDRecsIndividualUser:\n",
    "    \n",
    "    def __init__(self):\n",
    "        self.user_bias = None\n",
    "        self.item_bias = None\n",
    "        self.avg = None\n",
    "        self.modelpath = 'Models/matrixfactorization'\n",
    "        self.user_factors = None\n",
    "        self.item_factors = None\n",
    "        self.ordered_item_bias = None\n",
    "        self.model_loaded = None\n",
    "        self.model_loaded = False\n",
    "        self.load_model()\n",
    "\n",
    "    def load_model(self):\n",
    "        get_path = self.modelpath + '\\\\'\n",
    "        with open(get_path+'user_bias.data', 'rb') as ub_file:\n",
    "            self.user_bias = pickle.load(ub_file)\n",
    "        with open(get_path+'item_bias.data', 'rb') as ub_file:\n",
    "            self.item_bias = pickle.load(ub_file)\n",
    "        with open(get_path+'avg.npy', 'rb') as f:\n",
    "            self.avg = np.load(f)\n",
    "       \n",
    "        with open(get_path+'user_factors.json', 'r') as infile:\n",
    "            self.user_factors = pd.DataFrame(json.load(infile)).T\n",
    "        with open(get_path+'item_factors.json', 'r') as infile:\n",
    "            self.item_factors = pd.DataFrame(json.load(infile)).T\n",
    "        self.ordered_item_bias = list(collections.OrderedDict(sorted(self.item_bias.items())).values())\n",
    "        self.model_loaded = True\n",
    "\n",
    "    def recommend_items_by_ratings(self, user_id, active_user_items, num):\n",
    "        print(\"user_id: {}\\nuser past visited layouts:\\n {}\".format(user_id,active_user_items))\n",
    "        rated_layouts = set(active_user_items)\n",
    "        recs = {}\n",
    "        if str(user_id) in self.user_factors.columns:\n",
    "            user = self.user_factors[str(user_id)]\n",
    "            \n",
    "            items = self.item_factors\n",
    "            scores = items.T.dot(user)\n",
    "            sorted_scores = scores.sort_values(ascending=False)\n",
    "            result = sorted_scores[:num + len(rated_layouts)]\n",
    "            user_bias = 0\n",
    "\n",
    "            if user_id in self.user_bias.keys():\n",
    "                user_bias = self.user_bias[user_id]\n",
    "            elif int(user_id) in self.user_bias.keys():\n",
    "                user_bias = self.user_bias[int(user_id)]\n",
    "                print(f'it was an int {user_bias}')\n",
    "\n",
    "            rating = float(user_bias + self.avg)\n",
    "            result += rating\n",
    "\n",
    "            recs = {r[0]: {'prediction': r[1] + float(self.item_bias[r[0]])}\n",
    "                    for r in zip(result.index, result) if r[0] not in rated_layouts}\n",
    "        sorted_items = sorted(recs.items(), key=lambda item: -float(item[1]['prediction']))[:num]\n",
    "        print('recommended_layouts: \\n{}'.format(sorted_items))\n",
    "        print()\n",
    "        return sorted_items\n",
    "\n",
    "fkrecs = FunkSVDRecsIndividualUser()\n",
    "fkrecs.load_model()\n",
    "users_list = validation_df.user_id.unique().tolist()\n",
    "for user in users_list:\n",
    "    #print(\"user_id{}, validation set{}_____: \".format(user_id,validation_df.loc[(validation_df.user_id == user),'layout_id']))\n",
    "    list_user_layouts = training_df.loc[(training_df.user_id == user),'layout_id']\n",
    "    list_user_layouts\n",
    "    recs = fkrecs.recommend_items_by_ratings(user ,list_user_layouts,5)"
   ]
  }
 ],
 "metadata": {
  "interpreter": {
   "hash": "f3188b09a65e59baff0b674306c50890f5dd2ca3da3b5f68b84c57a7cd422333"
  },
  "kernelspec": {
   "display_name": "Python 3.8.5 64-bit ('.myThesis': venv)",
   "name": "python3"
  },
  "language_info": {
   "codemirror_mode": {
    "name": "ipython",
    "version": 3
   },
   "file_extension": ".py",
   "mimetype": "text/x-python",
   "name": "python",
   "nbconvert_exporter": "python",
   "pygments_lexer": "ipython3",
   "version": "3.8.5"
  },
  "orig_nbformat": 4
 },
 "nbformat": 4,
 "nbformat_minor": 2
}
